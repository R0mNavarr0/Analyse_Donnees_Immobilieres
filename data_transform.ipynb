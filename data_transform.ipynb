{
 "cells": [
  {
   "cell_type": "code",
   "execution_count": 32,
   "id": "7b13eccb",
   "metadata": {},
   "outputs": [],
   "source": [
    "import pandas as pd\n",
    "import os\n",
    "import numpy as np"
   ]
  },
  {
   "cell_type": "code",
   "execution_count": 33,
   "id": "fd99a4d8",
   "metadata": {},
   "outputs": [],
   "source": [
    "df_commune = pd.read_csv('./data/data_commune.csv',usecols=['CODREG','CODDEP','CODCOM','PTOT'] , dtype={'CODREG':'int','CODDEP':'str','CODCOM':'str','PTOT':'int'})\n",
    "\n",
    "df_ref_geo = pd.read_csv('./data/ref_geo.csv', usecols=['reg_nom','dep_nom','com_code','com_nom_maj'], low_memory=False, dtype={'reg_nom':'str','dep_nom':'str','com_code':'str','com_nom_maj':'str'})\n",
    "\n",
    "df_valeur = pd.read_csv('./data/val_fonc.csv', \n",
    "usecols=['Date mutation','Valeur fonciere', 'No voie','Type de voie','Voie','B/T/Q','Code departement','Code commune','Type local','Surface reelle bati','Nombre pieces principales'], \n",
    "dtype={'No voie':'Int64','Code departement':'str','Code commune':'str'}, \n",
    "parse_dates=['Date mutation'],\n",
    "decimal =',',\n",
    "low_memory=False)"
   ]
  },
  {
   "cell_type": "code",
   "execution_count": 34,
   "id": "01b49a23",
   "metadata": {},
   "outputs": [
    {
     "data": {
      "application/vnd.microsoft.datawrangler.viewer.v0+json": {
       "columns": [
        {
         "name": "index",
         "rawType": "int64",
         "type": "integer"
        },
        {
         "name": "CODREG",
         "rawType": "int64",
         "type": "integer"
        },
        {
         "name": "CODDEP",
         "rawType": "object",
         "type": "string"
        },
        {
         "name": "CODCOM",
         "rawType": "object",
         "type": "string"
        },
        {
         "name": "PTOT",
         "rawType": "int64",
         "type": "integer"
        }
       ],
       "ref": "f9c5060b-49f6-47d4-91e0-8d59990bdd0a",
       "rows": [
        [
         "0",
         "84",
         "01",
         "001",
         "798"
        ],
        [
         "1",
         "84",
         "01",
         "002",
         "257"
        ],
        [
         "2",
         "84",
         "01",
         "004",
         "14514"
        ],
        [
         "3",
         "84",
         "01",
         "005",
         "1776"
        ],
        [
         "4",
         "84",
         "01",
         "006",
         "118"
        ]
       ],
       "shape": {
        "columns": 4,
        "rows": 5
       }
      },
      "text/html": [
       "<div>\n",
       "<style scoped>\n",
       "    .dataframe tbody tr th:only-of-type {\n",
       "        vertical-align: middle;\n",
       "    }\n",
       "\n",
       "    .dataframe tbody tr th {\n",
       "        vertical-align: top;\n",
       "    }\n",
       "\n",
       "    .dataframe thead th {\n",
       "        text-align: right;\n",
       "    }\n",
       "</style>\n",
       "<table border=\"1\" class=\"dataframe\">\n",
       "  <thead>\n",
       "    <tr style=\"text-align: right;\">\n",
       "      <th></th>\n",
       "      <th>CODREG</th>\n",
       "      <th>CODDEP</th>\n",
       "      <th>CODCOM</th>\n",
       "      <th>PTOT</th>\n",
       "    </tr>\n",
       "  </thead>\n",
       "  <tbody>\n",
       "    <tr>\n",
       "      <th>0</th>\n",
       "      <td>84</td>\n",
       "      <td>01</td>\n",
       "      <td>001</td>\n",
       "      <td>798</td>\n",
       "    </tr>\n",
       "    <tr>\n",
       "      <th>1</th>\n",
       "      <td>84</td>\n",
       "      <td>01</td>\n",
       "      <td>002</td>\n",
       "      <td>257</td>\n",
       "    </tr>\n",
       "    <tr>\n",
       "      <th>2</th>\n",
       "      <td>84</td>\n",
       "      <td>01</td>\n",
       "      <td>004</td>\n",
       "      <td>14514</td>\n",
       "    </tr>\n",
       "    <tr>\n",
       "      <th>3</th>\n",
       "      <td>84</td>\n",
       "      <td>01</td>\n",
       "      <td>005</td>\n",
       "      <td>1776</td>\n",
       "    </tr>\n",
       "    <tr>\n",
       "      <th>4</th>\n",
       "      <td>84</td>\n",
       "      <td>01</td>\n",
       "      <td>006</td>\n",
       "      <td>118</td>\n",
       "    </tr>\n",
       "  </tbody>\n",
       "</table>\n",
       "</div>"
      ],
      "text/plain": [
       "   CODREG CODDEP CODCOM   PTOT\n",
       "0      84     01    001    798\n",
       "1      84     01    002    257\n",
       "2      84     01    004  14514\n",
       "3      84     01    005   1776\n",
       "4      84     01    006    118"
      ]
     },
     "execution_count": 34,
     "metadata": {},
     "output_type": "execute_result"
    }
   ],
   "source": [
    "df_commune.head()"
   ]
  },
  {
   "cell_type": "code",
   "execution_count": 35,
   "id": "1b46db2c",
   "metadata": {},
   "outputs": [
    {
     "data": {
      "application/vnd.microsoft.datawrangler.viewer.v0+json": {
       "columns": [
        {
         "name": "index",
         "rawType": "int64",
         "type": "integer"
        },
        {
         "name": "reg_nom",
         "rawType": "object",
         "type": "string"
        },
        {
         "name": "dep_nom",
         "rawType": "object",
         "type": "string"
        },
        {
         "name": "com_code",
         "rawType": "object",
         "type": "string"
        },
        {
         "name": "com_nom_maj",
         "rawType": "object",
         "type": "string"
        }
       ],
       "ref": "fbbef9b1-52d7-4f4e-94a4-173d3d02651a",
       "rows": [
        [
         "0",
         "Auvergne-Rhône-Alpes",
         "Ain",
         "01001",
         "L'ABERGEMENT-CLEMENCIAT"
        ],
        [
         "1",
         "Auvergne-Rhône-Alpes",
         "Ain",
         "01002",
         "L'ABERGEMENT-DE-VAREY"
        ],
        [
         "2",
         "Auvergne-Rhône-Alpes",
         "Ain",
         "01003",
         "AMAREINS"
        ],
        [
         "3",
         "Auvergne-Rhône-Alpes",
         "Ain",
         "01004",
         "AMBERIEU-EN-BUGEY"
        ],
        [
         "4",
         "Auvergne-Rhône-Alpes",
         "Ain",
         "01005",
         "AMBERIEUX-EN-DOMBES"
        ]
       ],
       "shape": {
        "columns": 4,
        "rows": 5
       }
      },
      "text/html": [
       "<div>\n",
       "<style scoped>\n",
       "    .dataframe tbody tr th:only-of-type {\n",
       "        vertical-align: middle;\n",
       "    }\n",
       "\n",
       "    .dataframe tbody tr th {\n",
       "        vertical-align: top;\n",
       "    }\n",
       "\n",
       "    .dataframe thead th {\n",
       "        text-align: right;\n",
       "    }\n",
       "</style>\n",
       "<table border=\"1\" class=\"dataframe\">\n",
       "  <thead>\n",
       "    <tr style=\"text-align: right;\">\n",
       "      <th></th>\n",
       "      <th>reg_nom</th>\n",
       "      <th>dep_nom</th>\n",
       "      <th>com_code</th>\n",
       "      <th>com_nom_maj</th>\n",
       "    </tr>\n",
       "  </thead>\n",
       "  <tbody>\n",
       "    <tr>\n",
       "      <th>0</th>\n",
       "      <td>Auvergne-Rhône-Alpes</td>\n",
       "      <td>Ain</td>\n",
       "      <td>01001</td>\n",
       "      <td>L'ABERGEMENT-CLEMENCIAT</td>\n",
       "    </tr>\n",
       "    <tr>\n",
       "      <th>1</th>\n",
       "      <td>Auvergne-Rhône-Alpes</td>\n",
       "      <td>Ain</td>\n",
       "      <td>01002</td>\n",
       "      <td>L'ABERGEMENT-DE-VAREY</td>\n",
       "    </tr>\n",
       "    <tr>\n",
       "      <th>2</th>\n",
       "      <td>Auvergne-Rhône-Alpes</td>\n",
       "      <td>Ain</td>\n",
       "      <td>01003</td>\n",
       "      <td>AMAREINS</td>\n",
       "    </tr>\n",
       "    <tr>\n",
       "      <th>3</th>\n",
       "      <td>Auvergne-Rhône-Alpes</td>\n",
       "      <td>Ain</td>\n",
       "      <td>01004</td>\n",
       "      <td>AMBERIEU-EN-BUGEY</td>\n",
       "    </tr>\n",
       "    <tr>\n",
       "      <th>4</th>\n",
       "      <td>Auvergne-Rhône-Alpes</td>\n",
       "      <td>Ain</td>\n",
       "      <td>01005</td>\n",
       "      <td>AMBERIEUX-EN-DOMBES</td>\n",
       "    </tr>\n",
       "  </tbody>\n",
       "</table>\n",
       "</div>"
      ],
      "text/plain": [
       "                reg_nom dep_nom com_code              com_nom_maj\n",
       "0  Auvergne-Rhône-Alpes     Ain    01001  L'ABERGEMENT-CLEMENCIAT\n",
       "1  Auvergne-Rhône-Alpes     Ain    01002    L'ABERGEMENT-DE-VAREY\n",
       "2  Auvergne-Rhône-Alpes     Ain    01003                 AMAREINS\n",
       "3  Auvergne-Rhône-Alpes     Ain    01004        AMBERIEU-EN-BUGEY\n",
       "4  Auvergne-Rhône-Alpes     Ain    01005      AMBERIEUX-EN-DOMBES"
      ]
     },
     "execution_count": 35,
     "metadata": {},
     "output_type": "execute_result"
    }
   ],
   "source": [
    "df_ref_geo.head()"
   ]
  },
  {
   "cell_type": "code",
   "execution_count": 36,
   "id": "b52b3a00",
   "metadata": {},
   "outputs": [
    {
     "data": {
      "application/vnd.microsoft.datawrangler.viewer.v0+json": {
       "columns": [
        {
         "name": "index",
         "rawType": "int64",
         "type": "integer"
        },
        {
         "name": "Date mutation",
         "rawType": "datetime64[ns]",
         "type": "datetime"
        },
        {
         "name": "Valeur fonciere",
         "rawType": "float64",
         "type": "float"
        },
        {
         "name": "No voie",
         "rawType": "Int64",
         "type": "integer"
        },
        {
         "name": "B/T/Q",
         "rawType": "object",
         "type": "unknown"
        },
        {
         "name": "Type de voie",
         "rawType": "object",
         "type": "string"
        },
        {
         "name": "Voie",
         "rawType": "object",
         "type": "string"
        },
        {
         "name": "Code departement",
         "rawType": "object",
         "type": "string"
        },
        {
         "name": "Code commune",
         "rawType": "object",
         "type": "string"
        },
        {
         "name": "Type local",
         "rawType": "object",
         "type": "string"
        },
        {
         "name": "Surface reelle bati",
         "rawType": "int64",
         "type": "integer"
        },
        {
         "name": "Nombre pieces principales",
         "rawType": "int64",
         "type": "integer"
        }
       ],
       "ref": "5223c3cc-dff7-43ba-bf92-2273b82525a4",
       "rows": [
        [
         "0",
         "2020-01-02 00:00:00",
         "165000.0",
         "347",
         null,
         "RUE",
         "DU CHATEAU",
         "01",
         "103",
         "Appartement",
         "48",
         "3"
        ],
        [
         "1",
         "2020-01-02 00:00:00",
         "355680.0",
         "4",
         null,
         "BD",
         "EDOUARD BAUDOIN",
         "06",
         "004",
         "Appartement",
         "40",
         "1"
        ],
        [
         "2",
         "2020-01-02 00:00:00",
         "229500.0",
         "20",
         "B",
         "RUE",
         "MARCEAU",
         "06",
         "088",
         "Appartement",
         "82",
         "3"
        ],
        [
         "3",
         "2020-01-02 00:00:00",
         "125000.0",
         "550",
         null,
         "RTE",
         "DES VESPINS RN7",
         "06",
         "123",
         "Appartement",
         "27",
         "1"
        ],
        [
         "4",
         "2020-01-02 00:00:00",
         "90000.0",
         "9300",
         null,
         "RES",
         "LES ARPEGES BD DES ABA",
         "13",
         "005",
         "Appartement",
         "47",
         "2"
        ]
       ],
       "shape": {
        "columns": 11,
        "rows": 5
       }
      },
      "text/html": [
       "<div>\n",
       "<style scoped>\n",
       "    .dataframe tbody tr th:only-of-type {\n",
       "        vertical-align: middle;\n",
       "    }\n",
       "\n",
       "    .dataframe tbody tr th {\n",
       "        vertical-align: top;\n",
       "    }\n",
       "\n",
       "    .dataframe thead th {\n",
       "        text-align: right;\n",
       "    }\n",
       "</style>\n",
       "<table border=\"1\" class=\"dataframe\">\n",
       "  <thead>\n",
       "    <tr style=\"text-align: right;\">\n",
       "      <th></th>\n",
       "      <th>Date mutation</th>\n",
       "      <th>Valeur fonciere</th>\n",
       "      <th>No voie</th>\n",
       "      <th>B/T/Q</th>\n",
       "      <th>Type de voie</th>\n",
       "      <th>Voie</th>\n",
       "      <th>Code departement</th>\n",
       "      <th>Code commune</th>\n",
       "      <th>Type local</th>\n",
       "      <th>Surface reelle bati</th>\n",
       "      <th>Nombre pieces principales</th>\n",
       "    </tr>\n",
       "  </thead>\n",
       "  <tbody>\n",
       "    <tr>\n",
       "      <th>0</th>\n",
       "      <td>2020-01-02</td>\n",
       "      <td>165000.0</td>\n",
       "      <td>347</td>\n",
       "      <td>NaN</td>\n",
       "      <td>RUE</td>\n",
       "      <td>DU CHATEAU</td>\n",
       "      <td>01</td>\n",
       "      <td>103</td>\n",
       "      <td>Appartement</td>\n",
       "      <td>48</td>\n",
       "      <td>3</td>\n",
       "    </tr>\n",
       "    <tr>\n",
       "      <th>1</th>\n",
       "      <td>2020-01-02</td>\n",
       "      <td>355680.0</td>\n",
       "      <td>4</td>\n",
       "      <td>NaN</td>\n",
       "      <td>BD</td>\n",
       "      <td>EDOUARD BAUDOIN</td>\n",
       "      <td>06</td>\n",
       "      <td>004</td>\n",
       "      <td>Appartement</td>\n",
       "      <td>40</td>\n",
       "      <td>1</td>\n",
       "    </tr>\n",
       "    <tr>\n",
       "      <th>2</th>\n",
       "      <td>2020-01-02</td>\n",
       "      <td>229500.0</td>\n",
       "      <td>20</td>\n",
       "      <td>B</td>\n",
       "      <td>RUE</td>\n",
       "      <td>MARCEAU</td>\n",
       "      <td>06</td>\n",
       "      <td>088</td>\n",
       "      <td>Appartement</td>\n",
       "      <td>82</td>\n",
       "      <td>3</td>\n",
       "    </tr>\n",
       "    <tr>\n",
       "      <th>3</th>\n",
       "      <td>2020-01-02</td>\n",
       "      <td>125000.0</td>\n",
       "      <td>550</td>\n",
       "      <td>NaN</td>\n",
       "      <td>RTE</td>\n",
       "      <td>DES VESPINS RN7</td>\n",
       "      <td>06</td>\n",
       "      <td>123</td>\n",
       "      <td>Appartement</td>\n",
       "      <td>27</td>\n",
       "      <td>1</td>\n",
       "    </tr>\n",
       "    <tr>\n",
       "      <th>4</th>\n",
       "      <td>2020-01-02</td>\n",
       "      <td>90000.0</td>\n",
       "      <td>9300</td>\n",
       "      <td>NaN</td>\n",
       "      <td>RES</td>\n",
       "      <td>LES ARPEGES BD DES ABA</td>\n",
       "      <td>13</td>\n",
       "      <td>005</td>\n",
       "      <td>Appartement</td>\n",
       "      <td>47</td>\n",
       "      <td>2</td>\n",
       "    </tr>\n",
       "  </tbody>\n",
       "</table>\n",
       "</div>"
      ],
      "text/plain": [
       "  Date mutation  Valeur fonciere  No voie B/T/Q Type de voie  \\\n",
       "0    2020-01-02         165000.0      347   NaN          RUE   \n",
       "1    2020-01-02         355680.0        4   NaN           BD   \n",
       "2    2020-01-02         229500.0       20     B          RUE   \n",
       "3    2020-01-02         125000.0      550   NaN          RTE   \n",
       "4    2020-01-02          90000.0     9300   NaN          RES   \n",
       "\n",
       "                     Voie Code departement Code commune   Type local  \\\n",
       "0              DU CHATEAU               01          103  Appartement   \n",
       "1         EDOUARD BAUDOIN               06          004  Appartement   \n",
       "2                 MARCEAU               06          088  Appartement   \n",
       "3         DES VESPINS RN7               06          123  Appartement   \n",
       "4  LES ARPEGES BD DES ABA               13          005  Appartement   \n",
       "\n",
       "   Surface reelle bati  Nombre pieces principales  \n",
       "0                   48                          3  \n",
       "1                   40                          1  \n",
       "2                   82                          3  \n",
       "3                   27                          1  \n",
       "4                   47                          2  "
      ]
     },
     "execution_count": 36,
     "metadata": {},
     "output_type": "execute_result"
    }
   ],
   "source": [
    "df_valeur.head()"
   ]
  },
  {
   "cell_type": "markdown",
   "id": "36d9db12",
   "metadata": {},
   "source": [
    "### Création de la table tbl_commune"
   ]
  },
  {
   "cell_type": "code",
   "execution_count": 37,
   "id": "1b6e14c3",
   "metadata": {},
   "outputs": [],
   "source": [
    "df_commune['id_commune'] = df_commune['CODDEP'] + df_commune['CODCOM']"
   ]
  },
  {
   "cell_type": "code",
   "execution_count": 38,
   "id": "b90a62cc",
   "metadata": {},
   "outputs": [
    {
     "data": {
      "application/vnd.microsoft.datawrangler.viewer.v0+json": {
       "columns": [
        {
         "name": "index",
         "rawType": "int64",
         "type": "integer"
        },
        {
         "name": "CODREG",
         "rawType": "int64",
         "type": "integer"
        },
        {
         "name": "CODDEP",
         "rawType": "object",
         "type": "string"
        },
        {
         "name": "CODCOM",
         "rawType": "object",
         "type": "string"
        },
        {
         "name": "PTOT",
         "rawType": "int64",
         "type": "integer"
        },
        {
         "name": "id_commune",
         "rawType": "object",
         "type": "string"
        }
       ],
       "ref": "2abbe3a3-0d33-4411-9919-ed8e3b976baa",
       "rows": [
        [
         "0",
         "84",
         "01",
         "001",
         "798",
         "01001"
        ],
        [
         "1",
         "84",
         "01",
         "002",
         "257",
         "01002"
        ],
        [
         "2",
         "84",
         "01",
         "004",
         "14514",
         "01004"
        ],
        [
         "3",
         "84",
         "01",
         "005",
         "1776",
         "01005"
        ],
        [
         "4",
         "84",
         "01",
         "006",
         "118",
         "01006"
        ]
       ],
       "shape": {
        "columns": 5,
        "rows": 5
       }
      },
      "text/html": [
       "<div>\n",
       "<style scoped>\n",
       "    .dataframe tbody tr th:only-of-type {\n",
       "        vertical-align: middle;\n",
       "    }\n",
       "\n",
       "    .dataframe tbody tr th {\n",
       "        vertical-align: top;\n",
       "    }\n",
       "\n",
       "    .dataframe thead th {\n",
       "        text-align: right;\n",
       "    }\n",
       "</style>\n",
       "<table border=\"1\" class=\"dataframe\">\n",
       "  <thead>\n",
       "    <tr style=\"text-align: right;\">\n",
       "      <th></th>\n",
       "      <th>CODREG</th>\n",
       "      <th>CODDEP</th>\n",
       "      <th>CODCOM</th>\n",
       "      <th>PTOT</th>\n",
       "      <th>id_commune</th>\n",
       "    </tr>\n",
       "  </thead>\n",
       "  <tbody>\n",
       "    <tr>\n",
       "      <th>0</th>\n",
       "      <td>84</td>\n",
       "      <td>01</td>\n",
       "      <td>001</td>\n",
       "      <td>798</td>\n",
       "      <td>01001</td>\n",
       "    </tr>\n",
       "    <tr>\n",
       "      <th>1</th>\n",
       "      <td>84</td>\n",
       "      <td>01</td>\n",
       "      <td>002</td>\n",
       "      <td>257</td>\n",
       "      <td>01002</td>\n",
       "    </tr>\n",
       "    <tr>\n",
       "      <th>2</th>\n",
       "      <td>84</td>\n",
       "      <td>01</td>\n",
       "      <td>004</td>\n",
       "      <td>14514</td>\n",
       "      <td>01004</td>\n",
       "    </tr>\n",
       "    <tr>\n",
       "      <th>3</th>\n",
       "      <td>84</td>\n",
       "      <td>01</td>\n",
       "      <td>005</td>\n",
       "      <td>1776</td>\n",
       "      <td>01005</td>\n",
       "    </tr>\n",
       "    <tr>\n",
       "      <th>4</th>\n",
       "      <td>84</td>\n",
       "      <td>01</td>\n",
       "      <td>006</td>\n",
       "      <td>118</td>\n",
       "      <td>01006</td>\n",
       "    </tr>\n",
       "  </tbody>\n",
       "</table>\n",
       "</div>"
      ],
      "text/plain": [
       "   CODREG CODDEP CODCOM   PTOT id_commune\n",
       "0      84     01    001    798      01001\n",
       "1      84     01    002    257      01002\n",
       "2      84     01    004  14514      01004\n",
       "3      84     01    005   1776      01005\n",
       "4      84     01    006    118      01006"
      ]
     },
     "execution_count": 38,
     "metadata": {},
     "output_type": "execute_result"
    }
   ],
   "source": [
    "df_commune.head()"
   ]
  },
  {
   "cell_type": "code",
   "execution_count": 39,
   "id": "ba6cd36d",
   "metadata": {},
   "outputs": [],
   "source": [
    "df_tbl_commune = pd.merge(df_commune, df_ref_geo, left_on='id_commune',right_on='com_code')\n",
    "\n",
    "df_tbl_commune = df_tbl_commune.drop(columns='com_code')\n",
    "\n",
    "df_tbl_commune = df_tbl_commune.rename(columns={'CODREG':'code_reg','CODDEP':'code_dep','CODCOM':'code_com','PTOT':'population','reg_nom':'nom_reg','dep_nom':'nom_dep','com_nom_maj':'nom_commune'})"
   ]
  },
  {
   "cell_type": "code",
   "execution_count": 40,
   "id": "ad1778d5",
   "metadata": {},
   "outputs": [
    {
     "data": {
      "application/vnd.microsoft.datawrangler.viewer.v0+json": {
       "columns": [
        {
         "name": "index",
         "rawType": "int64",
         "type": "integer"
        },
        {
         "name": "code_reg",
         "rawType": "int64",
         "type": "integer"
        },
        {
         "name": "code_dep",
         "rawType": "object",
         "type": "string"
        },
        {
         "name": "code_com",
         "rawType": "object",
         "type": "string"
        },
        {
         "name": "population",
         "rawType": "int64",
         "type": "integer"
        },
        {
         "name": "id_commune",
         "rawType": "object",
         "type": "string"
        },
        {
         "name": "nom_reg",
         "rawType": "object",
         "type": "string"
        },
        {
         "name": "nom_dep",
         "rawType": "object",
         "type": "string"
        },
        {
         "name": "nom_commune",
         "rawType": "object",
         "type": "string"
        }
       ],
       "ref": "85c5c129-8901-4ed4-b292-49daa4daeb5a",
       "rows": [
        [
         "0",
         "84",
         "01",
         "001",
         "798",
         "01001",
         "Auvergne-Rhône-Alpes",
         "Ain",
         "L'ABERGEMENT-CLEMENCIAT"
        ],
        [
         "1",
         "84",
         "01",
         "002",
         "257",
         "01002",
         "Auvergne-Rhône-Alpes",
         "Ain",
         "L'ABERGEMENT-DE-VAREY"
        ],
        [
         "2",
         "84",
         "01",
         "004",
         "14514",
         "01004",
         "Auvergne-Rhône-Alpes",
         "Ain",
         "AMBERIEU-EN-BUGEY"
        ],
        [
         "3",
         "84",
         "01",
         "005",
         "1776",
         "01005",
         "Auvergne-Rhône-Alpes",
         "Ain",
         "AMBERIEUX-EN-DOMBES"
        ],
        [
         "4",
         "84",
         "01",
         "006",
         "118",
         "01006",
         "Auvergne-Rhône-Alpes",
         "Ain",
         "AMBLEON"
        ]
       ],
       "shape": {
        "columns": 8,
        "rows": 5
       }
      },
      "text/html": [
       "<div>\n",
       "<style scoped>\n",
       "    .dataframe tbody tr th:only-of-type {\n",
       "        vertical-align: middle;\n",
       "    }\n",
       "\n",
       "    .dataframe tbody tr th {\n",
       "        vertical-align: top;\n",
       "    }\n",
       "\n",
       "    .dataframe thead th {\n",
       "        text-align: right;\n",
       "    }\n",
       "</style>\n",
       "<table border=\"1\" class=\"dataframe\">\n",
       "  <thead>\n",
       "    <tr style=\"text-align: right;\">\n",
       "      <th></th>\n",
       "      <th>code_reg</th>\n",
       "      <th>code_dep</th>\n",
       "      <th>code_com</th>\n",
       "      <th>population</th>\n",
       "      <th>id_commune</th>\n",
       "      <th>nom_reg</th>\n",
       "      <th>nom_dep</th>\n",
       "      <th>nom_commune</th>\n",
       "    </tr>\n",
       "  </thead>\n",
       "  <tbody>\n",
       "    <tr>\n",
       "      <th>0</th>\n",
       "      <td>84</td>\n",
       "      <td>01</td>\n",
       "      <td>001</td>\n",
       "      <td>798</td>\n",
       "      <td>01001</td>\n",
       "      <td>Auvergne-Rhône-Alpes</td>\n",
       "      <td>Ain</td>\n",
       "      <td>L'ABERGEMENT-CLEMENCIAT</td>\n",
       "    </tr>\n",
       "    <tr>\n",
       "      <th>1</th>\n",
       "      <td>84</td>\n",
       "      <td>01</td>\n",
       "      <td>002</td>\n",
       "      <td>257</td>\n",
       "      <td>01002</td>\n",
       "      <td>Auvergne-Rhône-Alpes</td>\n",
       "      <td>Ain</td>\n",
       "      <td>L'ABERGEMENT-DE-VAREY</td>\n",
       "    </tr>\n",
       "    <tr>\n",
       "      <th>2</th>\n",
       "      <td>84</td>\n",
       "      <td>01</td>\n",
       "      <td>004</td>\n",
       "      <td>14514</td>\n",
       "      <td>01004</td>\n",
       "      <td>Auvergne-Rhône-Alpes</td>\n",
       "      <td>Ain</td>\n",
       "      <td>AMBERIEU-EN-BUGEY</td>\n",
       "    </tr>\n",
       "    <tr>\n",
       "      <th>3</th>\n",
       "      <td>84</td>\n",
       "      <td>01</td>\n",
       "      <td>005</td>\n",
       "      <td>1776</td>\n",
       "      <td>01005</td>\n",
       "      <td>Auvergne-Rhône-Alpes</td>\n",
       "      <td>Ain</td>\n",
       "      <td>AMBERIEUX-EN-DOMBES</td>\n",
       "    </tr>\n",
       "    <tr>\n",
       "      <th>4</th>\n",
       "      <td>84</td>\n",
       "      <td>01</td>\n",
       "      <td>006</td>\n",
       "      <td>118</td>\n",
       "      <td>01006</td>\n",
       "      <td>Auvergne-Rhône-Alpes</td>\n",
       "      <td>Ain</td>\n",
       "      <td>AMBLEON</td>\n",
       "    </tr>\n",
       "  </tbody>\n",
       "</table>\n",
       "</div>"
      ],
      "text/plain": [
       "   code_reg code_dep code_com  population id_commune               nom_reg  \\\n",
       "0        84       01      001         798      01001  Auvergne-Rhône-Alpes   \n",
       "1        84       01      002         257      01002  Auvergne-Rhône-Alpes   \n",
       "2        84       01      004       14514      01004  Auvergne-Rhône-Alpes   \n",
       "3        84       01      005        1776      01005  Auvergne-Rhône-Alpes   \n",
       "4        84       01      006         118      01006  Auvergne-Rhône-Alpes   \n",
       "\n",
       "  nom_dep              nom_commune  \n",
       "0     Ain  L'ABERGEMENT-CLEMENCIAT  \n",
       "1     Ain    L'ABERGEMENT-DE-VAREY  \n",
       "2     Ain        AMBERIEU-EN-BUGEY  \n",
       "3     Ain      AMBERIEUX-EN-DOMBES  \n",
       "4     Ain                  AMBLEON  "
      ]
     },
     "execution_count": 40,
     "metadata": {},
     "output_type": "execute_result"
    }
   ],
   "source": [
    "df_tbl_commune.head()"
   ]
  },
  {
   "cell_type": "code",
   "execution_count": 41,
   "id": "7567c19d",
   "metadata": {},
   "outputs": [],
   "source": [
    "df_tbl_commune = df_tbl_commune[['id_commune','code_reg','code_dep','code_com','nom_commune','population','nom_reg','nom_dep']]"
   ]
  },
  {
   "cell_type": "code",
   "execution_count": 42,
   "id": "5de78e91",
   "metadata": {},
   "outputs": [
    {
     "name": "stdout",
     "output_type": "stream",
     "text": [
      "<class 'pandas.core.frame.DataFrame'>\n",
      "RangeIndex: 34991 entries, 0 to 34990\n",
      "Data columns (total 8 columns):\n",
      " #   Column       Non-Null Count  Dtype \n",
      "---  ------       --------------  ----- \n",
      " 0   id_commune   34991 non-null  object\n",
      " 1   code_reg     34991 non-null  int64 \n",
      " 2   code_dep     34991 non-null  object\n",
      " 3   code_com     34991 non-null  object\n",
      " 4   nom_commune  34991 non-null  object\n",
      " 5   population   34991 non-null  int64 \n",
      " 6   nom_reg      34991 non-null  object\n",
      " 7   nom_dep      34991 non-null  object\n",
      "dtypes: int64(2), object(6)\n",
      "memory usage: 2.1+ MB\n"
     ]
    }
   ],
   "source": [
    "df_tbl_commune.info()"
   ]
  },
  {
   "cell_type": "code",
   "execution_count": 43,
   "id": "c720ec98",
   "metadata": {},
   "outputs": [],
   "source": [
    "df_tbl_commune.to_csv('tbl_commune.csv', index=False, encoding='utf-8')"
   ]
  },
  {
   "cell_type": "markdown",
   "id": "e27675e1",
   "metadata": {},
   "source": [
    "### Création de la table tbl_bien"
   ]
  },
  {
   "cell_type": "code",
   "execution_count": 44,
   "id": "420d799f",
   "metadata": {},
   "outputs": [],
   "source": [
    "df_valeur['id_commune'] = df_valeur['Code departement'] + df_valeur['Code commune']"
   ]
  },
  {
   "cell_type": "code",
   "execution_count": 45,
   "id": "6f6039dd",
   "metadata": {},
   "outputs": [],
   "source": [
    "df_valeur['id_bien'] = np.arange(len(df_valeur))"
   ]
  },
  {
   "cell_type": "code",
   "execution_count": 46,
   "id": "eecbd845",
   "metadata": {},
   "outputs": [],
   "source": [
    "df_tbl_bien = df_valeur[['id_bien','No voie','Type de voie','Voie','B/T/Q','Type local','Nombre pieces principales', 'Surface reelle bati','id_commune']]"
   ]
  },
  {
   "cell_type": "code",
   "execution_count": 47,
   "id": "78c6f0b0",
   "metadata": {},
   "outputs": [],
   "source": [
    "df_tbl_bien = df_tbl_bien.rename(columns={'No voie':'no_voie',\n",
    "                                  'Type de voie':'type_voie',\n",
    "                                  'Voie':'voie',\n",
    "                                  'B/T/Q':'b_t_q',\n",
    "                                  'Type local':'type_bien',\n",
    "                                  'Nombre pieces principales':'nb_piece',\n",
    "                                  'Surface reelle bati':'surface'})"
   ]
  },
  {
   "cell_type": "code",
   "execution_count": 48,
   "id": "322da1d2",
   "metadata": {},
   "outputs": [
    {
     "data": {
      "application/vnd.microsoft.datawrangler.viewer.v0+json": {
       "columns": [
        {
         "name": "index",
         "rawType": "int64",
         "type": "integer"
        },
        {
         "name": "id_bien",
         "rawType": "int64",
         "type": "integer"
        },
        {
         "name": "no_voie",
         "rawType": "Int64",
         "type": "integer"
        },
        {
         "name": "type_voie",
         "rawType": "object",
         "type": "string"
        },
        {
         "name": "voie",
         "rawType": "object",
         "type": "string"
        },
        {
         "name": "b_t_q",
         "rawType": "object",
         "type": "unknown"
        },
        {
         "name": "type_bien",
         "rawType": "object",
         "type": "string"
        },
        {
         "name": "nb_piece",
         "rawType": "int64",
         "type": "integer"
        },
        {
         "name": "surface",
         "rawType": "int64",
         "type": "integer"
        },
        {
         "name": "id_commune",
         "rawType": "object",
         "type": "string"
        }
       ],
       "ref": "4a924be1-f32f-4bf3-bc51-44a84579f662",
       "rows": [
        [
         "0",
         "0",
         "347",
         "RUE",
         "DU CHATEAU",
         null,
         "Appartement",
         "3",
         "48",
         "01103"
        ],
        [
         "1",
         "1",
         "4",
         "BD",
         "EDOUARD BAUDOIN",
         null,
         "Appartement",
         "1",
         "40",
         "06004"
        ],
        [
         "2",
         "2",
         "20",
         "RUE",
         "MARCEAU",
         "B",
         "Appartement",
         "3",
         "82",
         "06088"
        ],
        [
         "3",
         "3",
         "550",
         "RTE",
         "DES VESPINS RN7",
         null,
         "Appartement",
         "1",
         "27",
         "06123"
        ],
        [
         "4",
         "4",
         "9300",
         "RES",
         "LES ARPEGES BD DES ABA",
         null,
         "Appartement",
         "2",
         "47",
         "13005"
        ]
       ],
       "shape": {
        "columns": 9,
        "rows": 5
       }
      },
      "text/html": [
       "<div>\n",
       "<style scoped>\n",
       "    .dataframe tbody tr th:only-of-type {\n",
       "        vertical-align: middle;\n",
       "    }\n",
       "\n",
       "    .dataframe tbody tr th {\n",
       "        vertical-align: top;\n",
       "    }\n",
       "\n",
       "    .dataframe thead th {\n",
       "        text-align: right;\n",
       "    }\n",
       "</style>\n",
       "<table border=\"1\" class=\"dataframe\">\n",
       "  <thead>\n",
       "    <tr style=\"text-align: right;\">\n",
       "      <th></th>\n",
       "      <th>id_bien</th>\n",
       "      <th>no_voie</th>\n",
       "      <th>type_voie</th>\n",
       "      <th>voie</th>\n",
       "      <th>b_t_q</th>\n",
       "      <th>type_bien</th>\n",
       "      <th>nb_piece</th>\n",
       "      <th>surface</th>\n",
       "      <th>id_commune</th>\n",
       "    </tr>\n",
       "  </thead>\n",
       "  <tbody>\n",
       "    <tr>\n",
       "      <th>0</th>\n",
       "      <td>0</td>\n",
       "      <td>347</td>\n",
       "      <td>RUE</td>\n",
       "      <td>DU CHATEAU</td>\n",
       "      <td>NaN</td>\n",
       "      <td>Appartement</td>\n",
       "      <td>3</td>\n",
       "      <td>48</td>\n",
       "      <td>01103</td>\n",
       "    </tr>\n",
       "    <tr>\n",
       "      <th>1</th>\n",
       "      <td>1</td>\n",
       "      <td>4</td>\n",
       "      <td>BD</td>\n",
       "      <td>EDOUARD BAUDOIN</td>\n",
       "      <td>NaN</td>\n",
       "      <td>Appartement</td>\n",
       "      <td>1</td>\n",
       "      <td>40</td>\n",
       "      <td>06004</td>\n",
       "    </tr>\n",
       "    <tr>\n",
       "      <th>2</th>\n",
       "      <td>2</td>\n",
       "      <td>20</td>\n",
       "      <td>RUE</td>\n",
       "      <td>MARCEAU</td>\n",
       "      <td>B</td>\n",
       "      <td>Appartement</td>\n",
       "      <td>3</td>\n",
       "      <td>82</td>\n",
       "      <td>06088</td>\n",
       "    </tr>\n",
       "    <tr>\n",
       "      <th>3</th>\n",
       "      <td>3</td>\n",
       "      <td>550</td>\n",
       "      <td>RTE</td>\n",
       "      <td>DES VESPINS RN7</td>\n",
       "      <td>NaN</td>\n",
       "      <td>Appartement</td>\n",
       "      <td>1</td>\n",
       "      <td>27</td>\n",
       "      <td>06123</td>\n",
       "    </tr>\n",
       "    <tr>\n",
       "      <th>4</th>\n",
       "      <td>4</td>\n",
       "      <td>9300</td>\n",
       "      <td>RES</td>\n",
       "      <td>LES ARPEGES BD DES ABA</td>\n",
       "      <td>NaN</td>\n",
       "      <td>Appartement</td>\n",
       "      <td>2</td>\n",
       "      <td>47</td>\n",
       "      <td>13005</td>\n",
       "    </tr>\n",
       "  </tbody>\n",
       "</table>\n",
       "</div>"
      ],
      "text/plain": [
       "   id_bien  no_voie type_voie                    voie b_t_q    type_bien  \\\n",
       "0        0      347       RUE              DU CHATEAU   NaN  Appartement   \n",
       "1        1        4        BD         EDOUARD BAUDOIN   NaN  Appartement   \n",
       "2        2       20       RUE                 MARCEAU     B  Appartement   \n",
       "3        3      550       RTE         DES VESPINS RN7   NaN  Appartement   \n",
       "4        4     9300       RES  LES ARPEGES BD DES ABA   NaN  Appartement   \n",
       "\n",
       "   nb_piece  surface id_commune  \n",
       "0         3       48      01103  \n",
       "1         1       40      06004  \n",
       "2         3       82      06088  \n",
       "3         1       27      06123  \n",
       "4         2       47      13005  "
      ]
     },
     "execution_count": 48,
     "metadata": {},
     "output_type": "execute_result"
    }
   ],
   "source": [
    "df_tbl_bien.head()"
   ]
  },
  {
   "cell_type": "code",
   "execution_count": 49,
   "id": "12ca1ef8",
   "metadata": {},
   "outputs": [
    {
     "name": "stdout",
     "output_type": "stream",
     "text": [
      "<class 'pandas.core.frame.DataFrame'>\n",
      "RangeIndex: 34169 entries, 0 to 34168\n",
      "Data columns (total 9 columns):\n",
      " #   Column      Non-Null Count  Dtype \n",
      "---  ------      --------------  ----- \n",
      " 0   id_bien     34169 non-null  int64 \n",
      " 1   no_voie     34036 non-null  Int64 \n",
      " 2   type_voie   33229 non-null  object\n",
      " 3   voie        34169 non-null  object\n",
      " 4   b_t_q       2174 non-null   object\n",
      " 5   type_bien   34169 non-null  object\n",
      " 6   nb_piece    34169 non-null  int64 \n",
      " 7   surface     34169 non-null  int64 \n",
      " 8   id_commune  34169 non-null  object\n",
      "dtypes: Int64(1), int64(3), object(5)\n",
      "memory usage: 2.4+ MB\n"
     ]
    }
   ],
   "source": [
    "df_tbl_bien.info()"
   ]
  },
  {
   "cell_type": "code",
   "execution_count": 50,
   "id": "81584eca",
   "metadata": {},
   "outputs": [],
   "source": [
    "df_tbl_bien.to_csv('tbl_bien.csv', index=False, encoding='utf-8')"
   ]
  },
  {
   "cell_type": "markdown",
   "id": "5629a380",
   "metadata": {},
   "source": [
    "### Création de la table tbl_vente"
   ]
  },
  {
   "cell_type": "code",
   "execution_count": 51,
   "id": "5f165a4d",
   "metadata": {},
   "outputs": [],
   "source": [
    "df_tbl_vente = df_valeur[['Date mutation','Valeur fonciere','id_bien']]"
   ]
  },
  {
   "cell_type": "code",
   "execution_count": 52,
   "id": "afad2ed8",
   "metadata": {},
   "outputs": [
    {
     "name": "stderr",
     "output_type": "stream",
     "text": [
      "/tmp/ipykernel_898/1766589849.py:1: SettingWithCopyWarning: \n",
      "A value is trying to be set on a copy of a slice from a DataFrame.\n",
      "Try using .loc[row_indexer,col_indexer] = value instead\n",
      "\n",
      "See the caveats in the documentation: https://pandas.pydata.org/pandas-docs/stable/user_guide/indexing.html#returning-a-view-versus-a-copy\n",
      "  df_tbl_vente['id_vente'] = np.arange(len(df_tbl_vente))\n"
     ]
    }
   ],
   "source": [
    "df_tbl_vente['id_vente'] = np.arange(len(df_tbl_vente))"
   ]
  },
  {
   "cell_type": "code",
   "execution_count": 53,
   "id": "f815cd78",
   "metadata": {},
   "outputs": [],
   "source": [
    "df_tbl_vente = df_tbl_vente.rename(columns={'Date mutation':'date','Valeur fonciere':'valeur'})"
   ]
  },
  {
   "cell_type": "code",
   "execution_count": 54,
   "id": "ac9c9afa",
   "metadata": {},
   "outputs": [],
   "source": [
    "df_tbl_vente = df_tbl_vente[['id_vente','date','valeur','id_bien']]"
   ]
  },
  {
   "cell_type": "code",
   "execution_count": 55,
   "id": "f3672ac1",
   "metadata": {},
   "outputs": [
    {
     "data": {
      "application/vnd.microsoft.datawrangler.viewer.v0+json": {
       "columns": [
        {
         "name": "index",
         "rawType": "int64",
         "type": "integer"
        },
        {
         "name": "id_vente",
         "rawType": "int64",
         "type": "integer"
        },
        {
         "name": "date",
         "rawType": "datetime64[ns]",
         "type": "datetime"
        },
        {
         "name": "valeur",
         "rawType": "float64",
         "type": "float"
        },
        {
         "name": "id_bien",
         "rawType": "int64",
         "type": "integer"
        }
       ],
       "ref": "28a9e381-83d1-4ac9-966b-1965aa86e904",
       "rows": [
        [
         "0",
         "0",
         "2020-01-02 00:00:00",
         "165000.0",
         "0"
        ],
        [
         "1",
         "1",
         "2020-01-02 00:00:00",
         "355680.0",
         "1"
        ],
        [
         "2",
         "2",
         "2020-01-02 00:00:00",
         "229500.0",
         "2"
        ],
        [
         "3",
         "3",
         "2020-01-02 00:00:00",
         "125000.0",
         "3"
        ],
        [
         "4",
         "4",
         "2020-01-02 00:00:00",
         "90000.0",
         "4"
        ]
       ],
       "shape": {
        "columns": 4,
        "rows": 5
       }
      },
      "text/html": [
       "<div>\n",
       "<style scoped>\n",
       "    .dataframe tbody tr th:only-of-type {\n",
       "        vertical-align: middle;\n",
       "    }\n",
       "\n",
       "    .dataframe tbody tr th {\n",
       "        vertical-align: top;\n",
       "    }\n",
       "\n",
       "    .dataframe thead th {\n",
       "        text-align: right;\n",
       "    }\n",
       "</style>\n",
       "<table border=\"1\" class=\"dataframe\">\n",
       "  <thead>\n",
       "    <tr style=\"text-align: right;\">\n",
       "      <th></th>\n",
       "      <th>id_vente</th>\n",
       "      <th>date</th>\n",
       "      <th>valeur</th>\n",
       "      <th>id_bien</th>\n",
       "    </tr>\n",
       "  </thead>\n",
       "  <tbody>\n",
       "    <tr>\n",
       "      <th>0</th>\n",
       "      <td>0</td>\n",
       "      <td>2020-01-02</td>\n",
       "      <td>165000.0</td>\n",
       "      <td>0</td>\n",
       "    </tr>\n",
       "    <tr>\n",
       "      <th>1</th>\n",
       "      <td>1</td>\n",
       "      <td>2020-01-02</td>\n",
       "      <td>355680.0</td>\n",
       "      <td>1</td>\n",
       "    </tr>\n",
       "    <tr>\n",
       "      <th>2</th>\n",
       "      <td>2</td>\n",
       "      <td>2020-01-02</td>\n",
       "      <td>229500.0</td>\n",
       "      <td>2</td>\n",
       "    </tr>\n",
       "    <tr>\n",
       "      <th>3</th>\n",
       "      <td>3</td>\n",
       "      <td>2020-01-02</td>\n",
       "      <td>125000.0</td>\n",
       "      <td>3</td>\n",
       "    </tr>\n",
       "    <tr>\n",
       "      <th>4</th>\n",
       "      <td>4</td>\n",
       "      <td>2020-01-02</td>\n",
       "      <td>90000.0</td>\n",
       "      <td>4</td>\n",
       "    </tr>\n",
       "  </tbody>\n",
       "</table>\n",
       "</div>"
      ],
      "text/plain": [
       "   id_vente       date    valeur  id_bien\n",
       "0         0 2020-01-02  165000.0        0\n",
       "1         1 2020-01-02  355680.0        1\n",
       "2         2 2020-01-02  229500.0        2\n",
       "3         3 2020-01-02  125000.0        3\n",
       "4         4 2020-01-02   90000.0        4"
      ]
     },
     "execution_count": 55,
     "metadata": {},
     "output_type": "execute_result"
    }
   ],
   "source": [
    "df_tbl_vente.head()"
   ]
  },
  {
   "cell_type": "code",
   "execution_count": 56,
   "id": "180dd146",
   "metadata": {},
   "outputs": [
    {
     "name": "stdout",
     "output_type": "stream",
     "text": [
      "<class 'pandas.core.frame.DataFrame'>\n",
      "RangeIndex: 34169 entries, 0 to 34168\n",
      "Data columns (total 4 columns):\n",
      " #   Column    Non-Null Count  Dtype         \n",
      "---  ------    --------------  -----         \n",
      " 0   id_vente  34169 non-null  int64         \n",
      " 1   date      34169 non-null  datetime64[ns]\n",
      " 2   valeur    34151 non-null  float64       \n",
      " 3   id_bien   34169 non-null  int64         \n",
      "dtypes: datetime64[ns](1), float64(1), int64(2)\n",
      "memory usage: 1.0 MB\n"
     ]
    }
   ],
   "source": [
    "df_tbl_vente.info()"
   ]
  },
  {
   "cell_type": "code",
   "execution_count": 57,
   "id": "84ff6a61",
   "metadata": {},
   "outputs": [],
   "source": [
    "df_tbl_vente = df_tbl_vente.dropna()"
   ]
  },
  {
   "cell_type": "code",
   "execution_count": 58,
   "id": "a01640e7",
   "metadata": {},
   "outputs": [],
   "source": [
    "df_tbl_vente.to_csv('tbl_vente.csv', index=False, encoding='utf-8')"
   ]
  },
  {
   "cell_type": "code",
   "execution_count": 59,
   "id": "18c519bb",
   "metadata": {},
   "outputs": [
    {
     "name": "stdout",
     "output_type": "stream",
     "text": [
      "                        region  nb_appartements_vendus\n",
      "0                Ile-de-France                   13995\n",
      "1   Provence-Alpes-Côte d'Azur                    3649\n",
      "2         Auvergne-Rhône-Alpes                    3253\n",
      "3           Nouvelle-Aquitaine                    1932\n",
      "4                    Occitanie                    1640\n",
      "5             Pays de la Loire                    1357\n",
      "6              Hauts-de-France                    1254\n",
      "7                    Grand Est                     984\n",
      "8                     Bretagne                     983\n",
      "9                    Normandie                     862\n",
      "10         Centre-Val de Loire                     696\n",
      "11     Bourgogne-Franche-Comté                     376\n",
      "12                       Corse                     223\n",
      "13                  Martinique                      94\n",
      "14                  La Réunion                      44\n",
      "15                      Guyane                      34\n",
      "16                  Guadeloupe                       2\n"
     ]
    }
   ],
   "source": [
    "import sqlite3\n",
    "\n",
    "# Connexion\n",
    "conn = sqlite3.connect(\"LaplaceImmo.db\")\n",
    "\n",
    "# Requête\n",
    "query = \"\"\"\n",
    "SELECT c.nom_reg AS region, COUNT(*) AS nb_appartements_vendus\n",
    "FROM tbl_vente v\n",
    "JOIN tbl_bien b ON v.id_bien = b.id_bien\n",
    "JOIN tbl_commune c ON b.id_commune = c.id_commune\n",
    "WHERE b.type_bien = 'Appartement'\n",
    "  AND v.date <= '2020-06-30'\n",
    "GROUP BY c.nom_reg\n",
    "ORDER BY nb_appartements_vendus DESC;\n",
    "\"\"\"\n",
    "\n",
    "# Charger le résultat dans un DataFrame\n",
    "df = pd.read_sql_query(query, conn)\n",
    "\n",
    "# Afficher le DataFrame\n",
    "print(df)\n",
    "\n",
    "# Fermer\n",
    "conn.close()"
   ]
  },
  {
   "cell_type": "code",
   "execution_count": 60,
   "id": "f1794653",
   "metadata": {},
   "outputs": [
    {
     "data": {
      "application/vnd.microsoft.datawrangler.viewer.v0+json": {
       "columns": [
        {
         "name": "index",
         "rawType": "int64",
         "type": "integer"
        },
        {
         "name": "region",
         "rawType": "object",
         "type": "string"
        },
        {
         "name": "nb_appartements_vendus",
         "rawType": "int64",
         "type": "integer"
        }
       ],
       "ref": "3514bd24-6941-412d-980c-3a6ea7012c07",
       "rows": [
        [
         "0",
         "Ile-de-France",
         "13995"
        ],
        [
         "1",
         "Provence-Alpes-Côte d'Azur",
         "3649"
        ],
        [
         "2",
         "Auvergne-Rhône-Alpes",
         "3253"
        ],
        [
         "3",
         "Nouvelle-Aquitaine",
         "1932"
        ],
        [
         "4",
         "Occitanie",
         "1640"
        ],
        [
         "5",
         "Pays de la Loire",
         "1357"
        ],
        [
         "6",
         "Hauts-de-France",
         "1254"
        ],
        [
         "7",
         "Grand Est",
         "984"
        ],
        [
         "8",
         "Bretagne",
         "983"
        ],
        [
         "9",
         "Normandie",
         "862"
        ],
        [
         "10",
         "Centre-Val de Loire",
         "696"
        ],
        [
         "11",
         "Bourgogne-Franche-Comté",
         "376"
        ],
        [
         "12",
         "Corse",
         "223"
        ],
        [
         "13",
         "Martinique",
         "94"
        ],
        [
         "14",
         "La Réunion",
         "44"
        ],
        [
         "15",
         "Guyane",
         "34"
        ],
        [
         "16",
         "Guadeloupe",
         "2"
        ]
       ],
       "shape": {
        "columns": 2,
        "rows": 17
       }
      },
      "text/html": [
       "<div>\n",
       "<style scoped>\n",
       "    .dataframe tbody tr th:only-of-type {\n",
       "        vertical-align: middle;\n",
       "    }\n",
       "\n",
       "    .dataframe tbody tr th {\n",
       "        vertical-align: top;\n",
       "    }\n",
       "\n",
       "    .dataframe thead th {\n",
       "        text-align: right;\n",
       "    }\n",
       "</style>\n",
       "<table border=\"1\" class=\"dataframe\">\n",
       "  <thead>\n",
       "    <tr style=\"text-align: right;\">\n",
       "      <th></th>\n",
       "      <th>region</th>\n",
       "      <th>nb_appartements_vendus</th>\n",
       "    </tr>\n",
       "  </thead>\n",
       "  <tbody>\n",
       "    <tr>\n",
       "      <th>0</th>\n",
       "      <td>Ile-de-France</td>\n",
       "      <td>13995</td>\n",
       "    </tr>\n",
       "    <tr>\n",
       "      <th>1</th>\n",
       "      <td>Provence-Alpes-Côte d'Azur</td>\n",
       "      <td>3649</td>\n",
       "    </tr>\n",
       "    <tr>\n",
       "      <th>2</th>\n",
       "      <td>Auvergne-Rhône-Alpes</td>\n",
       "      <td>3253</td>\n",
       "    </tr>\n",
       "    <tr>\n",
       "      <th>3</th>\n",
       "      <td>Nouvelle-Aquitaine</td>\n",
       "      <td>1932</td>\n",
       "    </tr>\n",
       "    <tr>\n",
       "      <th>4</th>\n",
       "      <td>Occitanie</td>\n",
       "      <td>1640</td>\n",
       "    </tr>\n",
       "    <tr>\n",
       "      <th>5</th>\n",
       "      <td>Pays de la Loire</td>\n",
       "      <td>1357</td>\n",
       "    </tr>\n",
       "    <tr>\n",
       "      <th>6</th>\n",
       "      <td>Hauts-de-France</td>\n",
       "      <td>1254</td>\n",
       "    </tr>\n",
       "    <tr>\n",
       "      <th>7</th>\n",
       "      <td>Grand Est</td>\n",
       "      <td>984</td>\n",
       "    </tr>\n",
       "    <tr>\n",
       "      <th>8</th>\n",
       "      <td>Bretagne</td>\n",
       "      <td>983</td>\n",
       "    </tr>\n",
       "    <tr>\n",
       "      <th>9</th>\n",
       "      <td>Normandie</td>\n",
       "      <td>862</td>\n",
       "    </tr>\n",
       "    <tr>\n",
       "      <th>10</th>\n",
       "      <td>Centre-Val de Loire</td>\n",
       "      <td>696</td>\n",
       "    </tr>\n",
       "    <tr>\n",
       "      <th>11</th>\n",
       "      <td>Bourgogne-Franche-Comté</td>\n",
       "      <td>376</td>\n",
       "    </tr>\n",
       "    <tr>\n",
       "      <th>12</th>\n",
       "      <td>Corse</td>\n",
       "      <td>223</td>\n",
       "    </tr>\n",
       "    <tr>\n",
       "      <th>13</th>\n",
       "      <td>Martinique</td>\n",
       "      <td>94</td>\n",
       "    </tr>\n",
       "    <tr>\n",
       "      <th>14</th>\n",
       "      <td>La Réunion</td>\n",
       "      <td>44</td>\n",
       "    </tr>\n",
       "    <tr>\n",
       "      <th>15</th>\n",
       "      <td>Guyane</td>\n",
       "      <td>34</td>\n",
       "    </tr>\n",
       "    <tr>\n",
       "      <th>16</th>\n",
       "      <td>Guadeloupe</td>\n",
       "      <td>2</td>\n",
       "    </tr>\n",
       "  </tbody>\n",
       "</table>\n",
       "</div>"
      ],
      "text/plain": [
       "                        region  nb_appartements_vendus\n",
       "0                Ile-de-France                   13995\n",
       "1   Provence-Alpes-Côte d'Azur                    3649\n",
       "2         Auvergne-Rhône-Alpes                    3253\n",
       "3           Nouvelle-Aquitaine                    1932\n",
       "4                    Occitanie                    1640\n",
       "5             Pays de la Loire                    1357\n",
       "6              Hauts-de-France                    1254\n",
       "7                    Grand Est                     984\n",
       "8                     Bretagne                     983\n",
       "9                    Normandie                     862\n",
       "10         Centre-Val de Loire                     696\n",
       "11     Bourgogne-Franche-Comté                     376\n",
       "12                       Corse                     223\n",
       "13                  Martinique                      94\n",
       "14                  La Réunion                      44\n",
       "15                      Guyane                      34\n",
       "16                  Guadeloupe                       2"
      ]
     },
     "execution_count": 60,
     "metadata": {},
     "output_type": "execute_result"
    }
   ],
   "source": [
    "df"
   ]
  },
  {
   "cell_type": "code",
   "execution_count": null,
   "id": "bce9bfb1",
   "metadata": {},
   "outputs": [],
   "source": []
  }
 ],
 "metadata": {
  "kernelspec": {
   "display_name": "venv",
   "language": "python",
   "name": "python3"
  },
  "language_info": {
   "codemirror_mode": {
    "name": "ipython",
    "version": 3
   },
   "file_extension": ".py",
   "mimetype": "text/x-python",
   "name": "python",
   "nbconvert_exporter": "python",
   "pygments_lexer": "ipython3",
   "version": "3.12.3"
  }
 },
 "nbformat": 4,
 "nbformat_minor": 5
}
